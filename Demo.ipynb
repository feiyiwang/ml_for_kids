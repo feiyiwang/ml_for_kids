{
 "cells": [
  {
   "cell_type": "code",
   "execution_count": null,
   "id": "bf4ebf31-2896-4069-b953-3db8f14df5e8",
   "metadata": {},
   "outputs": [],
   "source": [
    "from utils import *\n",
    "import warnings\n",
    "warnings.filterwarnings(\"ignore\")\n",
    "%matplotlib inline"
   ]
  },
  {
   "cell_type": "markdown",
   "id": "e3681192-5e71-48fd-905a-bd21a17eb65d",
   "metadata": {},
   "source": [
    "## Prepare the data"
   ]
  },
  {
   "cell_type": "code",
   "execution_count": null,
   "id": "ad6bd565-02af-4fcf-b56a-81cce9cc7147",
   "metadata": {},
   "outputs": [],
   "source": [
    "data = load_data('Heart.csv')"
   ]
  },
  {
   "cell_type": "code",
   "execution_count": null,
   "id": "d5c508ba-c0f5-473f-95f8-4204825d220b",
   "metadata": {},
   "outputs": [],
   "source": [
    "data"
   ]
  },
  {
   "cell_type": "code",
   "execution_count": null,
   "id": "6c8054a6-babe-437a-9ba3-0e0ff2f5c676",
   "metadata": {},
   "outputs": [],
   "source": [
    "data.describe()"
   ]
  },
  {
   "cell_type": "code",
   "execution_count": null,
   "id": "2896f681-a90a-4485-a344-5e410d846a13",
   "metadata": {},
   "outputs": [],
   "source": [
    "dummy_data = dummy(data, \n",
    "                   dummy_list=['Chest_Pain','Thalassemia', 'Has_Heart_Disease'])"
   ]
  },
  {
   "cell_type": "code",
   "execution_count": null,
   "id": "c135e427-f873-4701-b345-5bf4684516c7",
   "metadata": {},
   "outputs": [],
   "source": [
    "dummy_data"
   ]
  },
  {
   "cell_type": "markdown",
   "id": "1035bf53-263f-46ac-9e52-244f6d79292f",
   "metadata": {},
   "source": [
    "## Explore the data"
   ]
  },
  {
   "cell_type": "code",
   "execution_count": null,
   "id": "00a1aaf4-52c0-4575-9fb0-1f32fcb8ae02",
   "metadata": {},
   "outputs": [],
   "source": [
    "dummy_data.Sex.value_counts()"
   ]
  },
  {
   "cell_type": "code",
   "execution_count": null,
   "id": "b50e8ea2-3c39-4674-9636-ab2991f3e733",
   "metadata": {},
   "outputs": [],
   "source": [
    "draw_basic_plot(data=dummy_data, \n",
    "                column='Sex', \n",
    "                colors=['green','blue'])"
   ]
  },
  {
   "cell_type": "code",
   "execution_count": null,
   "id": "13c19b2d-8ce2-44bb-9b42-ef4cf6717243",
   "metadata": {},
   "outputs": [],
   "source": [
    "# You can change the column name, tags, and colors yourself. Have a try!\n",
    "draw_bar_plot(data=dummy_data,\n",
    "              column='Sex', \n",
    "              tags=['Female', 'Male'], \n",
    "              colors=['pink', 'blue'])"
   ]
  },
  {
   "cell_type": "code",
   "execution_count": null,
   "id": "9225361f-5731-4c91-b08a-ecd5d9c99425",
   "metadata": {},
   "outputs": [],
   "source": [
    "data.Thalassemia.value_counts()"
   ]
  },
  {
   "cell_type": "code",
   "execution_count": null,
   "id": "a1ab4fcd-77be-468b-9f6c-5c7226da5533",
   "metadata": {},
   "outputs": [],
   "source": [
    "draw_bar_plot(data=dummy_data,\n",
    "              column='Thalassemia', \n",
    "              tags=['normal', 'reversable', 'fixed'], \n",
    "              colors=['orange', 'green', 'purple'])"
   ]
  },
  {
   "cell_type": "code",
   "execution_count": null,
   "id": "23f65ff4-e718-4733-918d-c6ce8053c368",
   "metadata": {},
   "outputs": [],
   "source": [
    "draw_heatmap(dummy_data)"
   ]
  },
  {
   "cell_type": "markdown",
   "id": "ecf9ec8f-029b-4d79-b56f-1eda4255f477",
   "metadata": {},
   "source": [
    "## Feature selection"
   ]
  },
  {
   "cell_type": "code",
   "execution_count": null,
   "id": "fffb8cbf-0979-4ba6-b54c-4fe3b41bd70a",
   "metadata": {},
   "outputs": [],
   "source": [
    "# split your dataset. One for model training and the other for testing your model\n",
    "scaled_data = scale(dummy_data)\n",
    "X_train,X_test,y_train,y_test = split_data(scaled_data, test_proportion=0.2)"
   ]
  },
  {
   "cell_type": "code",
   "execution_count": null,
   "id": "7b4f15ae-54d0-4729-af6f-a8d18e14ba91",
   "metadata": {},
   "outputs": [],
   "source": [
    "# select good features\n",
    "select_features(X_train, y_train)"
   ]
  },
  {
   "cell_type": "code",
   "execution_count": null,
   "id": "a0d8cc0f-c2be-4316-aafd-3d48395649b2",
   "metadata": {},
   "outputs": [],
   "source": [
    "X_train_final = X_train[['Thalassemia_normal','Thalassemia_reversable','Has_Angina',\n",
    "                         'Chest_Pain_asymptomatic','Chest_Pain_nonanginal']]\n",
    "X_test_final = X_test[['Thalassemia_normal','Thalassemia_reversable','Has_Angina',\n",
    "                       'Chest_Pain_asymptomatic','Chest_Pain_nonanginal']]"
   ]
  },
  {
   "cell_type": "code",
   "execution_count": null,
   "id": "d8aa8486-349e-4998-9cc2-fc42919151a3",
   "metadata": {},
   "outputs": [],
   "source": [
    "# define our datasets\n",
    "datasets = (X_train_final,X_test_final,y_train,y_test)"
   ]
  },
  {
   "cell_type": "markdown",
   "id": "50c4cf22-f67c-4797-ba96-ed4aef1afff9",
   "metadata": {},
   "source": [
    "## Modeling"
   ]
  },
  {
   "cell_type": "code",
   "execution_count": null,
   "id": "ca681a66-c081-4466-be66-0ea197bc5d09",
   "metadata": {},
   "outputs": [],
   "source": [
    "# You can try 'Logistic Regression', 'SVM', 'Random Forest'\n",
    "model(datasets=datasets, model_name='SVM')"
   ]
  },
  {
   "cell_type": "markdown",
   "id": "93191ff9-3e70-4de1-93c1-fbbb6eea972f",
   "metadata": {},
   "source": [
    "## Visualization"
   ]
  },
  {
   "cell_type": "code",
   "execution_count": null,
   "id": "6dcee804-46f0-4a96-93c7-48665352e401",
   "metadata": {},
   "outputs": [],
   "source": [
    "# You can try 'Logistic Regression', 'SVM', 'Random Forest'\n",
    "visualize(datasets, 'Random Forest')"
   ]
  },
  {
   "cell_type": "markdown",
   "id": "0d4e1108-2580-4555-9006-a63b28f7f610",
   "metadata": {},
   "source": [
    "#### Hooray!!! You have completed this clinical data analysis task! 🎉🎉🎉\n",
    "#### How do you like AI, young data scientist? 😁"
   ]
  }
 ],
 "metadata": {
  "kernelspec": {
   "display_name": "Python 3",
   "language": "python",
   "name": "python3"
  },
  "language_info": {
   "codemirror_mode": {
    "name": "ipython",
    "version": 3
   },
   "file_extension": ".py",
   "mimetype": "text/x-python",
   "name": "python",
   "nbconvert_exporter": "python",
   "pygments_lexer": "ipython3",
   "version": "3.7.9"
  }
 },
 "nbformat": 4,
 "nbformat_minor": 5
}
